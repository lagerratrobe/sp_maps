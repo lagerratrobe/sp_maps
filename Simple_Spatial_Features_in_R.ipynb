{
 "cells": [
  {
   "cell_type": "markdown",
   "metadata": {},
   "source": "### Creating Simple Spatial Features in R\n\nYes, it can be done in R.  It might be preferable to do it in PostGIS, or with GDAL, but it can be done."
  },
  {
   "cell_type": "code",
   "execution_count": 1,
   "metadata": {},
   "outputs": [],
   "source": "#Given a set of rectangles with these (x,y) coords:\na <- \"[(2,9) (2,15) (11,15) (11,9)]\"\nb <- \"[(11,9) (11,15) (20,15) (20,9)]\"\nc <- \"[(11,2) (11,9) (20,9) (20,2)]\"\nd <- \"[(2,2) (2,9) (11,9) (11,2)]\"\ne <- \"[(8,6) (8,25) (25,25) (25,6)]\""
  },
  {
   "cell_type": "markdown",
   "metadata": {},
   "source": "\n## Create some polygons and combine them\n\nIt's useful to see how R separates coordinate information from attributes, but I'm POSITIVE that there is a better way to do this.  At the moment I don't care as this gives me the examples I need."
  },
  {
   "cell_type": "code",
   "execution_count": 2,
   "metadata": {},
   "outputs": [
    {
     "name": "stderr",
     "output_type": "stream",
     "text": "Loading required package: sp\n\n"
    },
    {
     "data": {
      "text/html": "'S4'",
      "text/latex": "'S4'",
      "text/markdown": "'S4'",
      "text/plain": "[1] \"S4\""
     },
     "metadata": {},
     "output_type": "display_data"
    },
    {
     "data": {
      "text/html": "<ol class=list-inline>\n\t<li>'data'</li>\n\t<li>'polygons'</li>\n\t<li>'plotOrder'</li>\n\t<li>'bbox'</li>\n\t<li>'proj4string'</li>\n</ol>\n",
      "text/latex": "\\begin{enumerate*}\n\\item 'data'\n\\item 'polygons'\n\\item 'plotOrder'\n\\item 'bbox'\n\\item 'proj4string'\n\\end{enumerate*}\n",
      "text/markdown": "1. 'data'\n2. 'polygons'\n3. 'plotOrder'\n4. 'bbox'\n5. 'proj4string'\n\n\n",
      "text/plain": "[1] \"data\"        \"polygons\"    \"plotOrder\"   \"bbox\"        \"proj4string\""
     },
     "metadata": {},
     "output_type": "display_data"
    },
    {
     "data": {
      "text/plain": "Object of class SpatialPolygonsDataFrame\nCoordinates:\n  min max\nx   2  20\ny   2  15\nIs projected: FALSE \nproj4string :\n[+proj=longlat +ellps=WGS84 +datum=WGS84 +no_defs +towgs84=0,0,0]\nData attributes:\n name        id           county     type  \n A:1   Min.   :1.00   Min.   :1   tract:4  \n B:1   1st Qu.:1.75   1st Qu.:1            \n C:1   Median :2.50   Median :1            \n D:1   Mean   :2.50   Mean   :1            \n       3rd Qu.:3.25   3rd Qu.:1            \n       Max.   :4.00   Max.   :1            "
     },
     "metadata": {},
     "output_type": "display_data"
    },
    {
     "name": "stdout",
     "output_type": "stream",
     "text": "Observations: 4\nVariables: 4\n$ name   \u001b[3m\u001b[38;5;246m<fct>\u001b[39m\u001b[23m A, B, C, D\n$ id     \u001b[3m\u001b[38;5;246m<dbl>\u001b[39m\u001b[23m 1, 2, 3, 4\n$ county \u001b[3m\u001b[38;5;246m<dbl>\u001b[39m\u001b[23m 1, 1, 1, 1\n$ type   \u001b[3m\u001b[38;5;246m<fct>\u001b[39m\u001b[23m tract, tract, tract, tract\n"
    }
   ],
   "source": "# Create individual polygons from their extents using raster::extent, like ST_MakeEnvelope in PostGIS\n\nlibrary(raster)\n\nepsg_4326 <- CRS(\"+proj=longlat +ellps=WGS84 +datum=WGS84 +no_defs\")\n\n# polygon A\npoly_a <- as(raster::extent(2.0, 11.0, 9.0, 15.0), \"SpatialPolygons\")\ndf_a <- data.frame(name=\"A\", id=1, county=1, type=\"tract\")\nspdf_a <- SpatialPolygonsDataFrame(poly_a,df_a)\n\n# polygon B\npoly_b <- as(raster::extent(11.0, 20.0, 9.0, 15.0), \"SpatialPolygons\")\ndf_b <- data.frame(name=\"B\", id=2, county=1, type=\"tract\")\nspdf_b <- SpatialPolygonsDataFrame(poly_b,df_b)\n\n# polygon C\npoly_c <- as(raster::extent(11.0, 20.0, 2.0, 9.0), \"SpatialPolygons\")\ndf_c <- data.frame(name=\"C\", id=3, county=1, type=\"tract\")\nspdf_c <- SpatialPolygonsDataFrame(poly_c,df_c)\n\n# polygon D\npoly_d <- as(raster::extent(2.0, 11.0, 2.0, 9.0), \"SpatialPolygons\")\ndf_d <- data.frame(name=\"D\", id=4, county=1, type=\"tract\")\nspdf_d <- SpatialPolygonsDataFrame(poly_d,df_d)\n\n# polygon E\npoly_e <- as(raster::extent(8.0, 25.0, 6.0, 25.0), \"SpatialPolygons\")\ndf_e <- data.frame(name=\"E\", id=1, county=2, type=\"forest\")\nspdf_e <- SpatialPolygonsDataFrame(poly_e,df_e)\n\n# \"Bind\" Polys A,B,C & D into one\nspdf_abcd <- raster::bind(spdf_a, spdf_b, spdf_c, spdf_d, keepnames=TRUE)\nproj4string(spdf_abcd) <- epsg_4326\n\ntypeof(spdf_abcd)\nslotNames(spdf_abcd)\nsummary(spdf_abcd)\ndplyr::glimpse(spdf_abcd@data)"
  },
  {
   "cell_type": "markdown",
   "metadata": {},
   "source": "### Create some points\n\nPoints are a little easier to create than polygons.  There is a bit of a trick though in creating the \"coords\".  Below is the way that I've been using.  There are many other ways to do it."
  },
  {
   "cell_type": "code",
   "execution_count": 3,
   "metadata": {},
   "outputs": [
    {
     "data": {
      "text/plain": "Object of class SpatialPointsDataFrame\nCoordinates:\n  min max\nx   5  23\ny   3  21\nIs projected: FALSE \nproj4string :\n[+proj=longlat +ellps=WGS84 +datum=WGS84 +no_defs +towgs84=0,0,0]\nNumber of points: 12\nData attributes:\n       id              x               y              temp      \n Min.   : 1.00   Min.   : 5.00   Min.   : 3.00   Min.   :49.50  \n 1st Qu.: 3.75   1st Qu.: 8.50   1st Qu.: 7.00   1st Qu.:50.75  \n Median : 6.50   Median :13.50   Median :11.50   Median :52.50  \n Mean   : 6.50   Mean   :13.33   Mean   :10.75   Mean   :52.88  \n 3rd Qu.: 9.25   3rd Qu.:17.25   3rd Qu.:13.00   3rd Qu.:54.25  \n Max.   :12.00   Max.   :23.00   Max.   :21.00   Max.   :57.00  "
     },
     "metadata": {},
     "output_type": "display_data"
    }
   ],
   "source": "# Create some point data, maybe it represents temperature readings, or something...\ntemp_df <- read.table(header = TRUE, text=\"\nid  x  y  temp\n 1  5  21 50\n 2  18 20 49.5\n 3  9  13 52\n 4  17 13 51\n 5  7  12  53\n 6  23 12 50\n 7  12 11 52\n 8  6  7  57\n 9  10 7  57\n 10 15 7  55\n 11 16 3  54\n 12 22 3  54\")\n\n# Convert the point df into a SpatialPointsDataFrame\nxy <- temp_df[c(\"x\", \"y\")]\ntemp_spdf <- SpatialPointsDataFrame(coords = xy, \n                                    data = temp_df,\n                                    proj4string = epsg_4326)\n\nsummary(temp_spdf)"
  },
  {
   "cell_type": "markdown",
   "metadata": {},
   "source": "### Basic Plotting\n\nPlot everything on the same canvas and add some labels."
  },
  {
   "cell_type": "code",
   "execution_count": 4,
   "metadata": {},
   "outputs": [
    {
     "data": {
      "image/png": "[encoded data removed]",
      "text/plain": "plot without title"
     },
     "metadata": {
      "image/png": {
       "height": 420,
       "width": 420
      },
      "text/plain": {
       "height": 420,
       "width": 420
      }
     },
     "output_type": "display_data"
    }
   ],
   "source": "# bbox (just needed to be able to plot 2 objects that don't share the same bbox, could use xlim?)\nbbox <- as(raster::extent(2.0, 25.0, 2.0, 25.0), \"SpatialPolygons\")\n\n# Invisible bbox to set the plot extent\nplot(bbox, col = \"transparent\", border = \"transparent\")\n\n# SPDF features\nplot(spdf_e, col = \"lightgreen\", add = TRUE)\nplot(spdf_abcd, col = \"pink\", add = TRUE)\n\n# Label the polygons with their names\nabcd <- suppressWarnings(rgeos::polygonsLabel(spdf_abcd, spdf_abcd$name, method = \"centroid\", doPlot = TRUE))\ne <- suppressWarnings(rgeos::polygonsLabel(spdf_e, spdf_e$name, method = \"buffer\", doPlot = TRUE))\n\n# Plot the points and label them\n# See http://www.sthda.com/english/wiki/r-plot-pch-symbols-the-different-point-shapes-available-in-r\nplot(temp_spdf, add = TRUE, col = \"black\", pch = 16)\n# Label the points\ntext(temp_spdf, labels = temp_spdf$id, pos = 3) "
  },
  {
   "cell_type": "code",
   "execution_count": 11,
   "metadata": {},
   "outputs": [],
   "source": "# Save off the data so we can use it later\nassign(\"sample_tracts\", spdf_abcd)\nsave(list = c(\"sample_tracts\"), file = 'sample_tracts.RData')\n\nassign(\"sample_forest\", spdf_e)\nsave(list = c(\"sample_forest\"), file = 'sample_forest.RData')\n\nassign(\"sample_temps\", temp_spdf)\nsave(list = c(\"sample_temps\"), file = 'sample_temps.RData')"
  },
  {
   "cell_type": "code",
   "execution_count": 12,
   "metadata": {},
   "outputs": [
    {
     "data": {
      "text/html": "<ol class=list-inline>\n\t<li>'sample_forest.RData'</li>\n\t<li>'sample_temps.RData'</li>\n\t<li>'sample_tracts.RData'</li>\n\t<li>'Simple_Spatial_Features_in_R.ipynb'</li>\n\t<li>'spatial_fun.R'</li>\n</ol>\n",
      "text/latex": "\\begin{enumerate*}\n\\item 'sample\\_forest.RData'\n\\item 'sample\\_temps.RData'\n\\item 'sample\\_tracts.RData'\n\\item 'Simple\\_Spatial\\_Features\\_in\\_R.ipynb'\n\\item 'spatial\\_fun.R'\n\\end{enumerate*}\n",
      "text/markdown": "1. 'sample_forest.RData'\n2. 'sample_temps.RData'\n3. 'sample_tracts.RData'\n4. 'Simple_Spatial_Features_in_R.ipynb'\n5. 'spatial_fun.R'\n\n\n",
      "text/plain": "[1] \"sample_forest.RData\"                \"sample_temps.RData\"                \n[3] \"sample_tracts.RData\"                \"Simple_Spatial_Features_in_R.ipynb\"\n[5] \"spatial_fun.R\"                     "
     },
     "metadata": {},
     "output_type": "display_data"
    }
   ],
   "source": "list.files()"
  }
 ],
 "metadata": {
  "kernelspec": {
   "display_name": "R",
   "language": "R",
   "name": "ir"
  },
  "language_info": {
   "codemirror_mode": "r",
   "file_extension": ".r",
   "mimetype": "text/x-r-source",
   "name": "R",
   "pygments_lexer": "r",
   "version": "3.6.1"
  }
 },
 "nbformat": 4,
 "nbformat_minor": 4
}
